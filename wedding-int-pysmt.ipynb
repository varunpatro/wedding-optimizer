{
 "cells": [
  {
   "cell_type": "code",
   "execution_count": 1,
   "metadata": {},
   "outputs": [],
   "source": [
    "from collections import Counter, defaultdict\n",
    "import datetime\n",
    "from functools import partial\n",
    "import numpy as np\n",
    "import pandas as pd\n",
    "from pprint import PrettyPrinter\n",
    "import time\n",
    "from tqdm import tqdm\n",
    "from pysmt.shortcuts import *\n",
    "import math\n",
    "\n",
    "pp = PrettyPrinter().pprint"
   ]
  },
  {
   "cell_type": "code",
   "execution_count": 2,
   "metadata": {},
   "outputs": [],
   "source": [
    "## This cell is an example of the variables\n",
    "## required in the data.\n",
    "\n",
    "# persons is a list of ids (for simplicity)\n",
    "# we can be more sophisticated and use a \n",
    "# Person class to represent each person\n",
    "persons = range(50)\n",
    "\n",
    "\n",
    "# tables is a list of table sizes\n",
    "# e.g. if tables = [3, 4, 5], it means\n",
    "# there are 3 tables of sizes 3, 4 and 5\n",
    "# respectively.\n",
    "tables = [10] * 5\n",
    "\n",
    "# groups is a dictionary that maps a group id\n",
    "# to a list of all the people in that group\n",
    "# e.g. if groups[0] == [1, 2], it means\n",
    "# person 1 and 2 belong to group 0\n",
    "groups = defaultdict(list)\n",
    "groups[0] = [0, 1, 2, 3]\n",
    "groups[1] = [6, 7, 8, 9]\n",
    "\n",
    "# friends is a dictionary that maps a person_id\n",
    "# to a list of all that person's friends.\n",
    "# e.g. if friends[0] == [1, 2, 3], it means \n",
    "# that person 0 has three friends: persons 1, 2, 3\n",
    "friends = defaultdict(list)\n",
    "friends[0] = [1]\n",
    "friends[1] = [2, 3, 4]\n",
    "\n",
    "# enemies is a list of pairs where\n",
    "# each pair holds two people that \n",
    "# shouldn't be seated on the same table\n",
    "enemies = []\n",
    "\n",
    "# couples is a list of pairs where\n",
    "# each pair holds two people that\n",
    "# must be seated on the same table\n",
    "couples = []"
   ]
  },
  {
   "cell_type": "code",
   "execution_count": 3,
   "metadata": {},
   "outputs": [],
   "source": [
    "df = pd.read_csv('example_data/50_attendees.csv')"
   ]
  },
  {
   "cell_type": "code",
   "execution_count": 4,
   "metadata": {},
   "outputs": [],
   "source": [
    "data_dict = dict()\n",
    "for col in df.columns:\n",
    "    data_dict[col] = list(filter(lambda x: not(math.isnan(x)), df[col]))\n",
    "    \n",
    "persons = data_dict['attendees_id']\n",
    "tables = list(map(int, data_dict['table_sizes']))\n",
    "\n",
    "get_person_index = lambda x: persons.index(x)\n",
    "enemy_a_indices = map(get_person_index, data_dict['enemy_a'])\n",
    "enemy_b_indices = map(get_person_index, data_dict['enemy_b'])\n",
    "couple_a_indices = map(get_person_index, data_dict['must_be_together_a'])\n",
    "couple_b_indices = map(get_person_index, data_dict['must_be_together_b'])\n",
    "enemies = list(zip(enemy_a_indices, enemy_b_indices))\n",
    "couples = list(zip(couple_a_indices, couple_b_indices))\n",
    "group_member_indices = list(map(get_person_index, data_dict['group_member_id']))\n",
    "\n",
    "groups = defaultdict(list)\n",
    "for group_id, group_member_id in zip(data_dict['group_id'], group_member_indices):\n",
    "    groups[group_id].append(group_member_id)\n",
    "\n",
    "friends_set = defaultdict(set)\n",
    "for _, g_members in groups.items():\n",
    "    for member in g_members:\n",
    "        friends_set[member] = friends_set[member].union(g_members)\n",
    "\n",
    "friends = defaultdict(list)\n",
    "for p, p_friends in friends_set.items():\n",
    "    friends[p] = list(p_friends.difference(set([p])))"
   ]
  },
  {
   "cell_type": "code",
   "execution_count": 5,
   "metadata": {},
   "outputs": [],
   "source": [
    "person_ids = range(len(persons))\n",
    "table_ids = range(len(tables))"
   ]
  },
  {
   "cell_type": "code",
   "execution_count": 6,
   "metadata": {},
   "outputs": [],
   "source": [
    "def get_person_int(p_id):\n",
    "    return Symbol('p{}'.format(p_id), INT)\n",
    "\n",
    "def get_persons_int(p_ids=person_ids):\n",
    "    return map(get_person_int, p_ids)\n",
    "\n",
    "def get_couple_constraint(c1, c2):\n",
    "    c1p = get_person_int(c1)\n",
    "    c2p = get_person_int(c2)\n",
    "    return Equals(c1p, c2p)\n",
    "\n",
    "def get_enemy_constraint(e1, e2):\n",
    "    e1p = get_person_int(e1)\n",
    "    e2p = get_person_int(e2)\n",
    "    return Not(Equals(e1p, e2p))"
   ]
  },
  {
   "cell_type": "code",
   "execution_count": 7,
   "metadata": {},
   "outputs": [
    {
     "name": "stderr",
     "output_type": "stream",
     "text": [
      "100%|██████████| 50/50 [00:00<00:00, 725.81it/s]\n",
      "100%|██████████| 5/5 [00:00<00:00, 610.81it/s]"
     ]
    },
    {
     "name": "stdout",
     "output_type": "stream",
     "text": [
      "constraints enumerated\n"
     ]
    },
    {
     "name": "stderr",
     "output_type": "stream",
     "text": [
      "\n"
     ]
    }
   ],
   "source": [
    "hard_cons = []\n",
    "\n",
    "# each person can only be in one table\n",
    "for p_i, _ in enumerate(persons):\n",
    "    p = get_person_int(p_i)\n",
    "    cons = And(p >= 0, p <= table_ids[-1])\n",
    "    hard_cons.append(cons)\n",
    "    \n",
    "# each table has a fixed capacity\n",
    "for t_i, t_cap in enumerate(tables):\n",
    "    ps = get_persons_int()\n",
    "    cons = Plus(map(lambda p: Ite(Equals(p, Int(t_i)), Int(1), Int(0)), ps)) <= t_cap\n",
    "    hard_cons.append(cons)\n",
    "    \n",
    "# couples must be seated together\n",
    "for c1, c2 in couples:\n",
    "    c_cons = get_couple_constraint(c1, c2)\n",
    "    hard_cons.append(c_cons)\n",
    "\n",
    "# enemies must be seated separately\n",
    "for e1, e2 in enemies:\n",
    "    e_cons = get_enemy_constraint(e1, e2)\n",
    "    hard_cons.append(e_cons)\n",
    "\n",
    "for p, p_friends in tqdm(friends.items()):\n",
    "#     continue\n",
    "    p_int = get_person_int(p)\n",
    "    if len(p_friends) > 1:\n",
    "        for t in table_ids:\n",
    "            friend_ints = get_persons_int(p_friends)\n",
    "            ge_2_friends = Plus(map(lambda f: Ite(Equals(f, Int(t)), Int(1), Int(0)), friend_ints)) >= 1\n",
    "            hard_cons.append(Implies(Equals(p_int, Int(t)), ge_2_friends))\n",
    "    elif len(p_friends) > 0:\n",
    "        c_cons = get_couple_constraint(p, p_friends[0])\n",
    "        hard_cons.append(c_cons)\n",
    "\n",
    "# # each table should not have more than 70% from\n",
    "# # any single group\n",
    "for t, t_cap in tqdm(list(enumerate(tables))):\n",
    "#     continue\n",
    "    group_cap = int(t_cap * 0.7)\n",
    "    affected_groups = { k: v for k, v in groups.items() if len(v) > group_cap }\n",
    "    for g, g_members in affected_groups.items():\n",
    "        g_member_ints = get_persons_int(g_members)\n",
    "        g_members_on_t = Plus(map(lambda g: Ite(Equals(g, Int(t)), Int(1), Int(0)), g_member_ints))\n",
    "        cons = g_members_on_t <= group_cap\n",
    "        hard_cons.append(cons)\n",
    "\n",
    "print ('constraints enumerated')"
   ]
  },
  {
   "cell_type": "code",
   "execution_count": 8,
   "metadata": {},
   "outputs": [
    {
     "name": "stdout",
     "output_type": "stream",
     "text": [
      "2018-05-25 01:06:55.006261\n",
      "CPU times: user 390 ms, sys: 87.8 ms, total: 478 ms\n",
      "Wall time: 536 ms\n",
      "0.537671089172\n",
      "2018-05-25 01:06:55.544822\n"
     ]
    }
   ],
   "source": [
    "# %time get_model(And(hard_cons))\n",
    "print datetime.datetime.now()\n",
    "t_start = time.time()\n",
    "%time model = get_model(And(hard_cons), solver_name='z3')\n",
    "t_end = time.time()\n",
    "\n",
    "total_time = t_end - t_start\n",
    "print total_time\n",
    "print datetime.datetime.now()"
   ]
  },
  {
   "cell_type": "code",
   "execution_count": 9,
   "metadata": {},
   "outputs": [],
   "source": [
    "# write_smtlib(And(hard_cons), 'int.smt2')"
   ]
  },
  {
   "cell_type": "code",
   "execution_count": 10,
   "metadata": {},
   "outputs": [
    {
     "name": "stdout",
     "output_type": "stream",
     "text": [
      "{0: Counter({6: 4, 8: 2, 1: 2, 7: 2}),\n",
      " 1: Counter({3: 3, 5: 3, 1: 2, 2: 2}),\n",
      " 2: Counter({8: 2, 1: 2, 3: 2, 4: 2, 5: 2}),\n",
      " 3: Counter({3: 3, 6: 3, 5: 2, 7: 2}),\n",
      " 4: Counter({8: 5, 2: 3, 4: 2})}\n",
      "{0: {0: [1],\n",
      "     1: [1],\n",
      "     32: [6],\n",
      "     33: [6],\n",
      "     34: [6],\n",
      "     36: [6],\n",
      "     37: [7],\n",
      "     38: [7],\n",
      "     47: [8],\n",
      "     48: [8]},\n",
      " 1: {2: [1],\n",
      "     3: [1],\n",
      "     8: [2],\n",
      "     9: [2],\n",
      "     16: [3],\n",
      "     17: [3],\n",
      "     18: [3],\n",
      "     23: [5],\n",
      "     24: [5],\n",
      "     25: [5]},\n",
      " 2: {4: [1],\n",
      "     5: [1],\n",
      "     13: [3],\n",
      "     15: [3],\n",
      "     19: [4],\n",
      "     20: [4],\n",
      "     28: [5],\n",
      "     29: [5],\n",
      "     41: [8],\n",
      "     49: [8]},\n",
      " 3: {11: [3],\n",
      "     12: [3],\n",
      "     14: [3],\n",
      "     26: [5],\n",
      "     27: [5],\n",
      "     30: [6],\n",
      "     31: [6],\n",
      "     35: [6],\n",
      "     39: [7],\n",
      "     40: [7]},\n",
      " 4: {6: [2],\n",
      "     7: [2],\n",
      "     10: [2],\n",
      "     21: [4],\n",
      "     22: [4],\n",
      "     42: [8],\n",
      "     43: [8],\n",
      "     44: [8],\n",
      "     45: [8],\n",
      "     46: [8]}}\n"
     ]
    }
   ],
   "source": [
    "rev_g = defaultdict(list)\n",
    "for g, g_mems in groups.items():\n",
    "    for mem in g_mems:\n",
    "        rev_g[mem].append(g)    \n",
    "\n",
    "m_vals = [int(model.get_value(get_person_int(x)).serialize()) for x in person_ids]\n",
    "table_vals = defaultdict(lambda: defaultdict(list))\n",
    "for i, val in enumerate(m_vals):\n",
    "    table_vals[val][i].extend(rev_g[i])\n",
    "\n",
    "table_vals = {k: dict(v) for k, v in table_vals.items()}\n",
    "\n",
    "table_group_stats = {k: Counter(reduce(lambda x, y: x + y, v.values())) for k, v in table_vals.items()}\n",
    "\n",
    "pp(table_group_stats)\n",
    "pp(table_vals)"
   ]
  },
  {
   "cell_type": "raw",
   "metadata": {},
   "source": [
    "With Z3:\n",
    "basic + couples + enemies is 31 min\n",
    "basic + couples + enemies + friends is 24 min\n",
    "basic + couples + enemies + friends + groups is 25 min\n",
    "\n",
    "With Yices:\n",
    "\n"
   ]
  }
 ],
 "metadata": {
  "kernelspec": {
   "display_name": "Python 2",
   "language": "python",
   "name": "python2"
  },
  "language_info": {
   "codemirror_mode": {
    "name": "ipython",
    "version": 2
   },
   "file_extension": ".py",
   "mimetype": "text/x-python",
   "name": "python",
   "nbconvert_exporter": "python",
   "pygments_lexer": "ipython2",
   "version": "2.7.15"
  }
 },
 "nbformat": 4,
 "nbformat_minor": 2
}
