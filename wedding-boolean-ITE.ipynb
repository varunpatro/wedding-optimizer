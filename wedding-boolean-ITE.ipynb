{
 "cells": [
  {
   "cell_type": "code",
   "execution_count": 1,
   "metadata": {},
   "outputs": [],
   "source": [
    "from collections import Counter, defaultdict\n",
    "from functools import partial\n",
    "import numpy as np\n",
    "import pandas as pd\n",
    "from pprint import PrettyPrinter\n",
    "from tqdm import tqdm\n",
    "from z3 import *\n",
    "\n",
    "pp = PrettyPrinter().pprint"
   ]
  },
  {
   "cell_type": "code",
   "execution_count": 2,
   "metadata": {},
   "outputs": [],
   "source": [
    "## This cell is an example of the variables\n",
    "## required in the data.\n",
    "\n",
    "# persons is a list of ids (for simplicity)\n",
    "# we can be more sophisticated and use a \n",
    "# Person class to represent each person\n",
    "persons = range(50)\n",
    "\n",
    "\n",
    "# tables is a list of table sizes\n",
    "# e.g. if tables = [3, 4, 5], it means\n",
    "# there are 3 tables of sizes 3, 4 and 5\n",
    "# respectively.\n",
    "tables = [10] * 5\n",
    "\n",
    "# groups is a dictionary that maps a group id\n",
    "# to a list of all the people in that group\n",
    "# e.g. if groups[0] == [1, 2], it means\n",
    "# person 1 and 2 belong to group 0\n",
    "groups = defaultdict(list)\n",
    "groups[0] = [0, 1, 2, 3]\n",
    "groups[1] = [6, 7, 8, 9]\n",
    "\n",
    "# friends is a dictionary that maps a person_id\n",
    "# to a list of all that person's friends.\n",
    "# e.g. if friends[0] == [1, 2, 3], it means \n",
    "# that person 0 has three friends: persons 1, 2, 3\n",
    "friends = defaultdict(list)\n",
    "friends[0] = [1]\n",
    "friends[1] = [2, 3, 4]\n",
    "\n",
    "# enemies is a list of pairs where\n",
    "# each pair holds two people that \n",
    "# shouldn't be seated on the same table\n",
    "enemies = []\n",
    "\n",
    "# couples is a list of pairs where\n",
    "# each pair holds two people that\n",
    "# must be seated on the same table\n",
    "couples = []"
   ]
  },
  {
   "cell_type": "code",
   "execution_count": 3,
   "metadata": {},
   "outputs": [],
   "source": [
    "df = pd.read_csv('example_data/120_attendees.csv')"
   ]
  },
  {
   "cell_type": "code",
   "execution_count": 4,
   "metadata": {},
   "outputs": [],
   "source": [
    "data_dict = dict()\n",
    "for col in df.columns:\n",
    "    data_dict[col] = list(filter(lambda x: not(math.isnan(x)), df[col]))\n",
    "    \n",
    "persons = data_dict['attendees_id']\n",
    "tables = list(map(int, data_dict['table_sizes']))\n",
    "\n",
    "get_person_index = lambda x: persons.index(x)\n",
    "enemy_a_indices = map(get_person_index, data_dict['enemy_a'])\n",
    "enemy_b_indices = map(get_person_index, data_dict['enemy_b'])\n",
    "couple_a_indices = map(get_person_index, data_dict['must_be_together_a'])\n",
    "couple_b_indices = map(get_person_index, data_dict['must_be_together_b'])\n",
    "enemies = list(zip(enemy_a_indices, enemy_b_indices))\n",
    "couples = list(zip(couple_a_indices, couple_b_indices))\n",
    "group_member_indices = list(map(get_person_index, data_dict['group_member_id']))\n",
    "\n",
    "groups = defaultdict(list)\n",
    "for group_id, group_member_id in zip(data_dict['group_id'], group_member_indices):\n",
    "    groups[group_id].append(group_member_id)\n",
    "\n",
    "friends_set = defaultdict(set)\n",
    "for _, g_members in groups.items():\n",
    "    for member in g_members:\n",
    "        friends_set[member] = friends_set[member].union(g_members)\n",
    "\n",
    "friends = defaultdict(list)\n",
    "for p, p_friends in friends_set.items():\n",
    "    friends[p] = list(p_friends.difference(set([p])))"
   ]
  },
  {
   "cell_type": "code",
   "execution_count": 5,
   "metadata": {},
   "outputs": [],
   "source": [
    "person_ids = range(len(persons))\n",
    "table_ids = range(len(tables))"
   ]
  },
  {
   "cell_type": "code",
   "execution_count": 6,
   "metadata": {},
   "outputs": [],
   "source": [
    "def get_assignment_booleans():\n",
    "    '''\n",
    "    get_assignment_booleans returns a 2d list assg,\n",
    "    where assg[i][j] represents the boolean that\n",
    "    will be true if person i sits on table j. And false\n",
    "    if person i does not sit on table j.\n",
    "    '''\n",
    "    \n",
    "    def get_person_table_boolean(person_id, table_id):\n",
    "        return Bool('{}_{}'.format(person_id, table_id))\n",
    "    \n",
    "    def get_person_assignments(person_id):\n",
    "        return [get_person_table_boolean(person_id, table_id) for table_id in table_ids]\n",
    "        \n",
    "    return [get_person_assignments(person_id) for person_id in person_ids]\n",
    "    \n",
    "assg = get_assignment_booleans()"
   ]
  },
  {
   "cell_type": "code",
   "execution_count": 7,
   "metadata": {},
   "outputs": [],
   "source": [
    "def get_filtered_assignments(p_ids=person_ids, t_ids=table_ids):\n",
    "    '''\n",
    "    get_filtered_assignments takes a list of persons `p_ids`\n",
    "    and a list of tables `t_ids` and returns a list of booleans\n",
    "    that correspond to the persons and tables provided. that is,\n",
    "    it returns a cartesian product of the two lists.\n",
    "    \n",
    "    if no args are provided, p_ids and t_ids default to the all\n",
    "    the persons and all the tables.\n",
    "    \n",
    "    for e.g. if p_ids == [10], then it returns all the booleans\n",
    "    that correspond to person_id == 10, which are all the booleans\n",
    "    for person 0 and all the tables that person #10 can possibly \n",
    "    sit at. hence it returns a boolean list: \n",
    "    [10_0, 10_1, 10_2, ..., 10_n] where n is the last table_id.\n",
    "    \n",
    "    another example: if p_ids == [2, 5] and t_ids == [3, 4], then\n",
    "    the resulting list of booleans should be [2_3, 2_4, 5_3, 5_4].\n",
    "    hence, all the booleans returned are the cartesian product of \n",
    "    the p_ids and t_ids provided.\n",
    "    \n",
    "    if p_ids and t_ids are both not provided, i.e. they both\n",
    "    have the default value of all persons and all tables, then\n",
    "    all possible booleans are returned. i.e.\n",
    "    [0_0, 0_1, ..., 0_n, 1_0, 1_1, ..., 1_n, m_0, m_1, ..., m_n]\n",
    "    where m is the last person_id and n is table_id.\n",
    "    '''\n",
    "    f_assgs = [assg[p][t] for p in p_ids for t in t_ids]\n",
    "    return f_assgs"
   ]
  },
  {
   "cell_type": "code",
   "execution_count": 8,
   "metadata": {},
   "outputs": [],
   "source": [
    "def get_assignment_results(model):\n",
    "    '''\n",
    "    get_assignment_results takes in a z3 model\n",
    "    and returns a 2d list: results where \n",
    "    results[i][j] is True if person i sits\n",
    "    at table j. And False if person i does\n",
    "    not sit at table j.\n",
    "    \n",
    "    this result matrix is a realization of the \n",
    "    booleans that the solver solves.\n",
    "    '''\n",
    "    if not model:\n",
    "        return [[]]\n",
    "    \n",
    "    results = [[is_true(model.eval(assg[p_i][t_i])) for t_i in table_ids] for p_i in person_ids]\n",
    "    return results\n",
    "\n",
    "def get_couple_constraint(p1_id, p2_id):\n",
    "    c1a = get_filtered_assignments(p_ids=[p1_id])\n",
    "    c2a = get_filtered_assignments(p_ids=[p2_id])\n",
    "    return Or(*map(And, (zip(c1a, c2a))))\n",
    "\n",
    "def get_enemy_constraint(p1_id, p2_id):\n",
    "    return Not(get_couple_constraint(p1_id, p2_id))"
   ]
  },
  {
   "cell_type": "code",
   "execution_count": 9,
   "metadata": {},
   "outputs": [
    {
     "name": "stderr",
     "output_type": "stream",
     "text": [
      "100%|██████████| 71/71 [00:00<00:00, 34551.06it/s]\n",
      "100%|██████████| 11/11 [00:00<00:00, 3903.33it/s]"
     ]
    },
    {
     "name": "stdout",
     "output_type": "stream",
     "text": [
      "constraints enumerated\n"
     ]
    },
    {
     "name": "stderr",
     "output_type": "stream",
     "text": [
      "\n"
     ]
    }
   ],
   "source": [
    "hard_cons = []\n",
    "\n",
    "# each person can only be in one table\n",
    "for p_i, _ in enumerate(persons):\n",
    "    p_assg = get_filtered_assignments(p_ids=[p_i])\n",
    "    cons = Sum(map(lambda p: If(p, 1, 0), p_assg)) == 1\n",
    "    hard_cons.append(cons)\n",
    "    \n",
    "# each table has a fixed capacity\n",
    "for t_i, t_cap in enumerate(tables):\n",
    "    t_assg = get_filtered_assignments(t_ids=[t_i])\n",
    "    cons = Sum(map(lambda p: If(p, 1, 0), t_assg)) <= t_cap\n",
    "    hard_cons.append(cons)\n",
    "\n",
    "# couples must be seated together\n",
    "for c1, c2 in couples:\n",
    "    c_cons = get_couple_constraint(c1, c2)\n",
    "    hard_cons.append(c_cons)\n",
    "\n",
    "# enemies must be seated separately\n",
    "for e1, e2 in enemies:\n",
    "    e_cons = get_enemy_constraint(e1, e2)\n",
    "    hard_cons.append(e_cons)\n",
    "\n",
    "for p, p_friends in tqdm(friends.items()):\n",
    "    continue\n",
    "    if len(p_friends) > 1:\n",
    "        for t in table_ids:\n",
    "            friend_bools = [assg[f][t] for f in p_friends]\n",
    "            ge_2_friends = Sum(map(lambda p: If(p, 1, 0), friend_bools)) >= 2\n",
    "            hard_cons.append(Implies(assg[p][t], ge_2_friends))\n",
    "    elif len(p_friends) > 0:\n",
    "        c_cons = get_couple_constraint(p, p_friends[0])\n",
    "        hard_cons.append(c_cons)\n",
    "\n",
    "# # each table should not have more than 70% from\n",
    "# # any single group\n",
    "for t, t_cap in tqdm(list(enumerate(tables))):\n",
    "    continue\n",
    "    group_cap = int(t_cap * 0.7)\n",
    "    affected_groups = { k: v for k, v in groups.items() if len(v) > group_cap }\n",
    "    for g, g_members in affected_groups.items():\n",
    "        g_assg = get_filtered_assignments(p_ids=g_members, t_ids=[t])\n",
    "        cons = Sum(map(lambda p: If(p, 1, 0), g_assg)) <= group_cap\n",
    "        hard_cons.append(cons)\n",
    "    \n",
    "print ('constraints enumerated')"
   ]
  },
  {
   "cell_type": "code",
   "execution_count": 10,
   "metadata": {},
   "outputs": [
    {
     "name": "stdout",
     "output_type": "stream",
     "text": [
      "CPU times: user 3.53 s, sys: 29.2 ms, total: 3.56 s\n",
      "Wall time: 3.62 s\n",
      "problem solved\n"
     ]
    }
   ],
   "source": [
    "s = Solver()\n",
    "s.add(And(hard_cons))\n",
    "%time check_res = s.check()\n",
    "if check_res == sat:\n",
    "    print ('problem solved')\n",
    "    results = get_assignment_results(s.model())\n",
    "    # print(pd.DataFrame(results, columns=['table_{}'.format(t) for t in table_ids]))\n",
    "    ppl_assg = [r.index(True) for r in results]\n",
    "    # print(pd.DataFrame(ppl_assg, columns=['table_id']))\n",
    "    # print(Counter(ppl_assg))\n",
    "else:\n",
    "    print('not satisfiable')"
   ]
  },
  {
   "cell_type": "raw",
   "metadata": {},
   "source": [
    "basic is 1.26s\n"
   ]
  },
  {
   "cell_type": "code",
   "execution_count": null,
   "metadata": {},
   "outputs": [],
   "source": []
  }
 ],
 "metadata": {
  "kernelspec": {
   "display_name": "Python 2",
   "language": "python",
   "name": "python2"
  },
  "language_info": {
   "codemirror_mode": {
    "name": "ipython",
    "version": 2
   },
   "file_extension": ".py",
   "mimetype": "text/x-python",
   "name": "python",
   "nbconvert_exporter": "python",
   "pygments_lexer": "ipython2",
   "version": "2.7.15"
  }
 },
 "nbformat": 4,
 "nbformat_minor": 2
}
