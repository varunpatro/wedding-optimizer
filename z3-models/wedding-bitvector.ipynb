{
 "cells": [
  {
   "cell_type": "code",
   "execution_count": 12,
   "metadata": {},
   "outputs": [],
   "source": [
    "from collections import Counter, defaultdict\n",
    "import datetime\n",
    "import math\n",
    "import numpy as np\n",
    "import pandas as pd\n",
    "from pprint import PrettyPrinter\n",
    "import time\n",
    "from tqdm import tqdm\n",
    "from z3 import *\n",
    "\n",
    "pp = PrettyPrinter().pprint"
   ]
  },
  {
   "cell_type": "code",
   "execution_count": 5,
   "metadata": {},
   "outputs": [],
   "source": [
    "## This cell is an example of the variables\n",
    "## required in the data.\n",
    "\n",
    "# persons is a list of ids (for simplicity)\n",
    "# we can be more sophisticated and use a \n",
    "# Person class to represent each person\n",
    "persons = range(20)\n",
    "\n",
    "\n",
    "# tables is a list of table sizes\n",
    "# e.g. if tables = [3, 4, 5], it means\n",
    "# there are 3 tables of sizes 3, 4 and 5\n",
    "# respectively.\n",
    "tables = [5] * 4\n",
    "\n",
    "# groups is a dictionary that maps a group id\n",
    "# to a list of all the people in that group\n",
    "# e.g. if groups[0] == [1, 2], it means\n",
    "# person 1 and 2 belong to group 0\n",
    "groups = defaultdict(list)\n",
    "groups[0] = [0, 1, 2, 3]\n",
    "groups[1] = [6, 7, 8, 9]\n",
    "\n",
    "# friends is a dictionary that maps a person_id\n",
    "# to a list of all that person's friends.\n",
    "# e.g. if friends[0] == [1, 2, 3], it means \n",
    "# that person 0 has three friends: persons 1, 2, 3\n",
    "friends = defaultdict(list)\n",
    "friends[0] = [1]\n",
    "friends[1] = [2, 3, 4]\n",
    "\n",
    "# enemies is a list of pairs where\n",
    "# each pair holds two people that \n",
    "# shouldn't be seated on the same table\n",
    "enemies = []\n",
    "\n",
    "# couples is a list of pairs where\n",
    "# each pair holds two people that\n",
    "# must be seated on the same table\n",
    "couples = []"
   ]
  },
  {
   "cell_type": "code",
   "execution_count": 6,
   "metadata": {},
   "outputs": [],
   "source": [
    "df = pd.read_csv('../example_data/332_attendees.csv')"
   ]
  },
  {
   "cell_type": "code",
   "execution_count": 7,
   "metadata": {},
   "outputs": [],
   "source": [
    "data_dict = dict()\n",
    "for col in df.columns:\n",
    "    data_dict[col] = list(filter(lambda x: not(math.isnan(x)), df[col]))\n",
    "    \n",
    "persons = data_dict['attendees_id']\n",
    "tables = list(map(int, data_dict['table_sizes']))\n",
    "\n",
    "get_person_index = lambda x: persons.index(x)\n",
    "enemy_a_indices = map(get_person_index, data_dict['enemy_a'])\n",
    "enemy_b_indices = map(get_person_index, data_dict['enemy_b'])\n",
    "couple_a_indices = map(get_person_index, data_dict['must_be_together_a'])\n",
    "couple_b_indices = map(get_person_index, data_dict['must_be_together_b'])\n",
    "enemies = list(zip(enemy_a_indices, enemy_b_indices))\n",
    "couples = list(zip(couple_a_indices, couple_b_indices))\n",
    "group_member_indices = list(map(get_person_index, data_dict['group_member_id']))\n",
    "\n",
    "groups = defaultdict(list)\n",
    "for group_id, group_member_id in zip(data_dict['group_id'], group_member_indices):\n",
    "    groups[group_id].append(group_member_id)\n",
    "\n",
    "friends_set = defaultdict(set)\n",
    "for _, g_members in groups.items():\n",
    "    for member in g_members:\n",
    "        friends_set[member] = friends_set[member].union(g_members)\n",
    "\n",
    "friends = defaultdict(list)\n",
    "for p, p_friends in friends_set.items():\n",
    "    friends[p] = list(p_friends.difference(set([p])))"
   ]
  },
  {
   "cell_type": "code",
   "execution_count": 8,
   "metadata": {},
   "outputs": [],
   "source": [
    "person_ids = range(len(persons))\n",
    "table_ids = range(len(tables))"
   ]
  },
  {
   "cell_type": "code",
   "execution_count": 9,
   "metadata": {},
   "outputs": [],
   "source": [
    "extra_bits_num = int(math.ceil(math.log(len(persons), 2)))\n",
    "extra_bits_num = 0 # only use extra bits if youre doing option 1 for person constraint\n",
    "bit_vec_size = len(tables) + extra_bits_num\n",
    "\n",
    "def get_person_bv(p_id):\n",
    "    return BitVec('p{}'.format(p_id), bit_vec_size)\n",
    "\n",
    "def get_people_bvs(p_ids=person_ids):\n",
    "    return map(get_person_bv, p_ids)\n",
    "\n",
    "def get_table_mask(t_id):\n",
    "    return (BitVecVal(1, bit_vec_size) << t_id)\n",
    "\n",
    "def get_couple_constraint(c1, c2):\n",
    "    c1_bv = get_person_bv(c1)\n",
    "    c2_bv = get_person_bv(c2)\n",
    "    return (c1_bv & c2_bv != 0)\n",
    "\n",
    "def get_enemy_constraint(e1, e2):\n",
    "    e1_bv = get_person_bv(e1)\n",
    "    e2_bv = get_person_bv(e2)\n",
    "    return (e1_bv & e2_bv == 0)"
   ]
  },
  {
   "cell_type": "code",
   "execution_count": 14,
   "metadata": {},
   "outputs": [
    {
     "name": "stderr",
     "output_type": "stream",
     "text": [
      "100%|██████████| 222/222 [00:31<00:00,  6.95it/s]\n",
      "100%|██████████| 34/34 [00:00<00:00, 13066.37it/s]"
     ]
    },
    {
     "name": "stdout",
     "output_type": "stream",
     "text": [
      "constraints enumerated\n"
     ]
    },
    {
     "name": "stderr",
     "output_type": "stream",
     "text": [
      "\n"
     ]
    }
   ],
   "source": [
    "hard_cons = []\n",
    "\n",
    "# each person can only be in one table\n",
    "for p_i, _ in enumerate(persons):\n",
    "    p_bv = get_person_bv(p_i)\n",
    "    hard_cons.append((And((p_bv != 0), (p_bv & (p_bv - 1)) == 0)))\n",
    "    hard_cons.append(ULE(p_bv, get_table_mask(table_ids[-1])))\n",
    "    \n",
    "# each table has a fixed capacity\n",
    "for t_i, t_cap in enumerate(tables):\n",
    "    p_bvs = get_people_bvs()\n",
    "    \n",
    "    # option 1\n",
    "#     table_mask = get_table_mask(t_i)\n",
    "#     t_sum = sum(map(lambda p_bv: p_bv & table_mask, p_bvs))\n",
    "#     hard_cons.append(t_sum <= (table_mask * t_cap))\n",
    "    \n",
    "#     option 2\n",
    "    t_sum = Sum(map(lambda p_bv: LShR(p_bv, t_i) & 1, p_bvs))\n",
    "    hard_cons.append(t_sum <= t_cap)\n",
    "    \n",
    "# couples must be seated together\n",
    "for c1, c2 in couples:\n",
    "    c_cons = get_couple_constraint(c1, c2)\n",
    "    hard_cons.append(c_cons)\n",
    "\n",
    "# enemies must be seated separately\n",
    "for e1, e2 in enemies:\n",
    "    e_cons = get_enemy_constraint(e1, e2)\n",
    "    hard_cons.append(e_cons)\n",
    "\n",
    "# Friends should be seated together.\n",
    "# If x only has one friend y, x should\n",
    "# be seated with y. If x has more than\n",
    "# one friend, x should be seated with\n",
    "# at least two friends.\n",
    "for p, p_friends in tqdm(friends.items()):\n",
    "#     continue\n",
    "    if len(p_friends) > 1:\n",
    "        for t in table_ids:\n",
    "            table_mask = get_table_mask(t)\n",
    "            p_bvs = get_people_bvs(p_friends)\n",
    "            t_sum = sum(map(lambda p_bv: p_bv & table_mask, p_bvs))\n",
    "            p_on_t = (get_person_bv(p) & table_mask) != 0\n",
    "            hard_cons.append(Implies(p_on_t, t_sum >= 1 * table_mask))\n",
    "    elif len(p_friends) > 0:\n",
    "        c_cons = get_couple_constraint(p, p_friends[0])\n",
    "        hard_cons.append(c_cons)\n",
    "\n",
    "# each table should not have more than 70% from\n",
    "# any single group\n",
    "for t, t_cap in tqdm(list(enumerate(tables))):\n",
    "    continue\n",
    "    group_cap = int(t_cap * 0.7)\n",
    "    affected_groups = { k: v for k, v in groups.items() if len(v) > group_cap }\n",
    "    for g, g_members in affected_groups.items():\n",
    "        p_bvs = get_people_bvs(g_members)\n",
    "        t_sum = sum(map(lambda p_bv: p_bv & table_mask, p_bvs))\n",
    "        hard_cons.append(t_sum <= group_cap * table_mask)\n",
    "    \n",
    "# # tables should be as full as possible\n",
    "# # this is a difficult problem, hence we \n",
    "# # add it to soft_cons\n",
    "# for t in tqdm(table_ids):\n",
    "#     t_sizes = []\n",
    "#     t_poss = get_filtered_assignments(t_ids=[t])\n",
    "#     x = [PbGe(map(lambda x: (x, 1), t_poss), i) for i in range(1, tables[t] + 1)]\n",
    "#     soft_cons.extend(zip(x, range(1, tables[t] + 1)))\n",
    "\n",
    "print ('constraints enumerated')"
   ]
  },
  {
   "cell_type": "code",
   "execution_count": null,
   "metadata": {},
   "outputs": [
    {
     "name": "stdout",
     "output_type": "stream",
     "text": [
      "2018-05-24 17:55:41.487173\n"
     ]
    }
   ],
   "source": [
    "def get_results(model):\n",
    "    return map(lambda p: int(math.log(int(str(model.eval(get_person_bv(p)))), 2)), person_ids)\n",
    "\n",
    "print datetime.datetime.now()\n",
    "t_start = time.time()\n",
    "s = Solver()\n",
    "s.add(And(hard_cons))\n",
    "f = s.sexpr()\n",
    "%time check_res = s.check()\n",
    "if check_res == sat:\n",
    "    print ('problem solved')\n",
    "    results = get_results(s.model())\n",
    "#     print pd.DataFrame(results)\n",
    "    print(Counter(results))\n",
    "else:\n",
    "    print('not satisfiable')\n",
    "\n",
    "t_end = time.time()\n",
    "total_time = t_end - t_start\n",
    "print total_time\n",
    "print datetime.datetime.now()"
   ]
  },
  {
   "cell_type": "code",
   "execution_count": null,
   "metadata": {},
   "outputs": [],
   "source": [
    "print datetime.datetime.now()\n"
   ]
  },
  {
   "cell_type": "code",
   "execution_count": null,
   "metadata": {},
   "outputs": [],
   "source": [
    "with open('f', 'w') as f:\n",
    "    f.write(s.sexpr())\n",
    "    f.write('\\n(check-sat)\\n')"
   ]
  },
  {
   "cell_type": "raw",
   "metadata": {},
   "source": [
    "basic is 26 minutes\n",
    "basic + couples is 28 min\n",
    "basic + couples + enemies is 36 min\n",
    "\n",
    "====\n",
    "\n",
    "basic + couples + enemeis is 43 min"
   ]
  },
  {
   "cell_type": "code",
   "execution_count": 76,
   "metadata": {},
   "outputs": [
    {
     "data": {
      "text/plain": [
       "12"
      ]
     },
     "execution_count": 76,
     "metadata": {},
     "output_type": "execute_result"
    }
   ],
   "source": [
    "bit_vec_size"
   ]
  },
  {
   "cell_type": "code",
   "execution_count": 77,
   "metadata": {},
   "outputs": [
    {
     "data": {
      "text/plain": [
       "12"
      ]
     },
     "execution_count": 77,
     "metadata": {},
     "output_type": "execute_result"
    }
   ],
   "source": [
    "len(table_ids)"
   ]
  },
  {
   "cell_type": "code",
   "execution_count": null,
   "metadata": {},
   "outputs": [],
   "source": []
  }
 ],
 "metadata": {
  "kernelspec": {
   "display_name": "Python 2",
   "language": "python",
   "name": "python2"
  },
  "language_info": {
   "codemirror_mode": {
    "name": "ipython",
    "version": 2
   },
   "file_extension": ".py",
   "mimetype": "text/x-python",
   "name": "python",
   "nbconvert_exporter": "python",
   "pygments_lexer": "ipython2",
   "version": "2.7.15"
  }
 },
 "nbformat": 4,
 "nbformat_minor": 2
}
