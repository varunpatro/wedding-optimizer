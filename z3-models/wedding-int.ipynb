{
 "cells": [
  {
   "cell_type": "code",
   "execution_count": 1,
   "metadata": {},
   "outputs": [],
   "source": [
    "from collections import Counter, defaultdict\n",
    "import datetime\n",
    "import math\n",
    "import pandas as pd\n",
    "from pprint import PrettyPrinter\n",
    "import time\n",
    "from tqdm import tqdm\n",
    "from z3 import *\n",
    "\n",
    "pp = PrettyPrinter().pprint"
   ]
  },
  {
   "cell_type": "code",
   "execution_count": 2,
   "metadata": {},
   "outputs": [],
   "source": [
    "## This cell is an example of the variables\n",
    "## required in the data.\n",
    "\n",
    "# persons is a list of ids (for simplicity)\n",
    "# we can be more sophisticated and use a \n",
    "# Person class to represent each person\n",
    "persons = range(50)\n",
    "\n",
    "\n",
    "# tables is a list of table sizes\n",
    "# e.g. if tables = [3, 4, 5], it means\n",
    "# there are 3 tables of sizes 3, 4 and 5\n",
    "# respectively.\n",
    "tables = [10] * 5\n",
    "\n",
    "# groups is a dictionary that maps a group id\n",
    "# to a list of all the people in that group\n",
    "# e.g. if groups[0] == [1, 2], it means\n",
    "# person 1 and 2 belong to group 0\n",
    "groups = defaultdict(list)\n",
    "groups[0] = [0, 1, 2, 3]\n",
    "groups[1] = [6, 7, 8, 9]\n",
    "\n",
    "# friends is a dictionary that maps a person_id\n",
    "# to a list of all that person's friends.\n",
    "# e.g. if friends[0] == [1, 2, 3], it means \n",
    "# that person 0 has three friends: persons 1, 2, 3\n",
    "friends = defaultdict(list)\n",
    "friends[0] = [1]\n",
    "friends[1] = [2, 3, 4]\n",
    "\n",
    "# enemies is a list of pairs where\n",
    "# each pair holds two people that \n",
    "# shouldn't be seated on the same table\n",
    "enemies = []\n",
    "\n",
    "# couples is a list of pairs where\n",
    "# each pair holds two people that\n",
    "# must be seated on the same table\n",
    "couples = []"
   ]
  },
  {
   "cell_type": "code",
   "execution_count": 63,
   "metadata": {},
   "outputs": [],
   "source": [
    "df = pd.read_csv('../example_data/332_attendees.csv')"
   ]
  },
  {
   "cell_type": "code",
   "execution_count": 64,
   "metadata": {},
   "outputs": [],
   "source": [
    "data_dict = dict()\n",
    "for col in df.columns:\n",
    "    data_dict[col] = list(filter(lambda x: not(math.isnan(x)), df[col]))\n",
    "    \n",
    "persons = data_dict['attendees_id']\n",
    "tables = list(map(int, data_dict['table_sizes']))\n",
    "\n",
    "get_person_index = lambda x: persons.index(x)\n",
    "enemy_a_indices = map(get_person_index, data_dict['enemy_a'])\n",
    "enemy_b_indices = map(get_person_index, data_dict['enemy_b'])\n",
    "couple_a_indices = map(get_person_index, data_dict['must_be_together_a'])\n",
    "couple_b_indices = map(get_person_index, data_dict['must_be_together_b'])\n",
    "enemies = list(zip(enemy_a_indices, enemy_b_indices))\n",
    "couples = list(zip(couple_a_indices, couple_b_indices))\n",
    "group_member_indices = list(map(get_person_index, data_dict['group_member_id']))\n",
    "\n",
    "groups = defaultdict(list)\n",
    "for group_id, group_member_id in zip(data_dict['group_id'], group_member_indices):\n",
    "    groups[int(group_id)].append(group_member_id)\n",
    "\n",
    "friends_set = defaultdict(set)\n",
    "for _, g_members in groups.items():\n",
    "    for member in g_members:\n",
    "        friends_set[member] = friends_set[member].union(g_members)\n",
    "\n",
    "friends = defaultdict(list)\n",
    "for p, p_friends in friends_set.items():\n",
    "    friends[p] = list(p_friends.difference(set([p])))"
   ]
  },
  {
   "cell_type": "code",
   "execution_count": 65,
   "metadata": {},
   "outputs": [],
   "source": [
    "person_ids = range(len(persons))\n",
    "table_ids = range(len(tables))"
   ]
  },
  {
   "cell_type": "code",
   "execution_count": 66,
   "metadata": {},
   "outputs": [],
   "source": [
    "def get_person_int(p_id):\n",
    "    return Int('p{}'.format(p_id))\n",
    "\n",
    "def get_persons_int(p_ids=person_ids):\n",
    "    return map(get_person_int, p_ids)\n",
    "\n",
    "def get_couple_constraint(c1, c2):\n",
    "    c1p = get_person_int(c1)\n",
    "    c2p = get_person_int(c2)\n",
    "    return c1p == c2p\n",
    "\n",
    "def get_enemy_constraint(e1, e2):\n",
    "    e1p = get_person_int(e1)\n",
    "    e2p = get_person_int(e2)\n",
    "    return e1p != e2p"
   ]
  },
  {
   "cell_type": "code",
   "execution_count": 67,
   "metadata": {},
   "outputs": [
    {
     "name": "stderr",
     "output_type": "stream",
     "text": [
      "100%|██████████| 222/222 [00:46<00:00,  4.79it/s]\n",
      "100%|██████████| 34/34 [00:02<00:00, 12.49it/s]"
     ]
    },
    {
     "name": "stdout",
     "output_type": "stream",
     "text": [
      "constraints enumerated\n"
     ]
    },
    {
     "name": "stderr",
     "output_type": "stream",
     "text": [
      "\n"
     ]
    }
   ],
   "source": [
    "hard_cons = []\n",
    "\n",
    "# each person can only be in one table\n",
    "for p_i, _ in enumerate(persons):\n",
    "    p = get_person_int(p_i)\n",
    "    cons = And(p >= 0, p <= table_ids[-1])\n",
    "    hard_cons.append(cons)\n",
    "    \n",
    "# each table has a fixed capacity\n",
    "for t_i, t_cap in enumerate(tables):\n",
    "    ps = get_persons_int()\n",
    "    cons = Sum(map(lambda p: If(p == t_i, 1, 0), ps)) <= t_cap\n",
    "    hard_cons.append(cons)\n",
    "    \n",
    "# couples must be seated together\n",
    "for c1, c2 in couples:\n",
    "    c_cons = get_couple_constraint(c1, c2)\n",
    "    hard_cons.append(c_cons)\n",
    "\n",
    "# enemies must be seated separately\n",
    "for e1, e2 in enemies:\n",
    "    e_cons = get_enemy_constraint(e1, e2)\n",
    "    hard_cons.append(e_cons)\n",
    "\n",
    "for p, p_friends in tqdm(friends.items()):\n",
    "    p_int = get_person_int(p)\n",
    "    if len(p_friends) > 1:\n",
    "        for t in table_ids:\n",
    "            friend_ints = get_persons_int(p_friends)\n",
    "            ge_2_friends = Sum(map(lambda f: If(f == t, 1, 0), friend_ints)) >= 2\n",
    "            hard_cons.append(Implies(p_int == t, ge_2_friends))\n",
    "    elif len(p_friends) > 0:\n",
    "        c_cons = get_couple_constraint(p, p_friends[0])\n",
    "        hard_cons.append(c_cons)\n",
    "\n",
    "# # each table should not have more than 70% from\n",
    "# # any single group\n",
    "for t, t_cap in tqdm(list(enumerate(tables))):\n",
    "    group_cap = int(t_cap * 0.7)\n",
    "    affected_groups = { k: v for k, v in groups.items() if len(v) > group_cap }\n",
    "    for g, g_members in affected_groups.items():\n",
    "        g_member_ints = get_persons_int(g_members)\n",
    "        g_members_on_t = Sum(map(lambda g: If(g == t, 1, 0), g_member_ints))\n",
    "        cons = g_members_on_t <= group_cap\n",
    "        hard_cons.append(cons)\n",
    "\n",
    "print ('constraints enumerated')"
   ]
  },
  {
   "cell_type": "code",
   "execution_count": 68,
   "metadata": {},
   "outputs": [
    {
     "name": "stdout",
     "output_type": "stream",
     "text": [
      "2018-05-25 13:57:45.230351\n",
      "CPU times: user 30min 14s, sys: 6.61 s, total: 30min 21s\n",
      "Wall time: 30min 35s\n",
      "sat\n",
      "1835.97564197\n",
      "2018-05-25 14:28:21.206950\n"
     ]
    }
   ],
   "source": [
    "# %time get_model(And(hard_cons))\n",
    "print datetime.datetime.now()\n",
    "t_start = time.time()\n",
    "s = Solver()\n",
    "s.add(And(hard_cons))\n",
    "%time check_sat = s.check()\n",
    "if check_sat == sat:\n",
    "    print 'sat'\n",
    "    model = s.model()\n",
    "else:\n",
    "    print \"unsat\"\n",
    "t_end = time.time()\n",
    "\n",
    "total_time = t_end - t_start\n",
    "print total_time\n",
    "print datetime.datetime.now()"
   ]
  },
  {
   "cell_type": "code",
   "execution_count": 69,
   "metadata": {},
   "outputs": [
    {
     "name": "stdout",
     "output_type": "stream",
     "text": [
      "{0: Counter({33: 4, 35: 3, 37: 3, 41: 1, None: 1}),\n",
      " 1: Counter({37: 6, 19: 3, 35: 2, None: 1}),\n",
      " 2: Counter({24: 4, None: 3, 6: 3, 27: 2, 25: 1}),\n",
      " 3: Counter({None: 4, 40: 3, 20: 3}),\n",
      " 4: Counter({38: 6, 23: 3, 5: 1, None: 1, 19: 1, 20: 1}),\n",
      " 5: Counter({None: 5, 20: 3}),\n",
      " 6: Counter({None: 9}),\n",
      " 7: Counter({None: 6, 40: 4}),\n",
      " 8: Counter({None: 6, 14: 4, 13: 1}),\n",
      " 9: Counter({None: 7, 8: 3}),\n",
      " 10: Counter({31: 4, 17: 3, 12: 3, 9: 2, 23: 2}),\n",
      " 11: Counter({None: 5}),\n",
      " 12: Counter({None: 7, 42: 3}),\n",
      " 13: Counter({41: 5, 25: 4, 32: 2, 10: 1, 12: 1}),\n",
      " 14: Counter({None: 10}),\n",
      " 15: Counter({None: 4, 45: 4, 42: 3}),\n",
      " 16: Counter({None: 7, 39: 3}),\n",
      " 17: Counter({5: 3, 44: 3, 27: 3, 4: 1, 7: 1, 17: 1, None: 1}),\n",
      " 18: Counter({37: 4, None: 3, 23: 3, 33: 1}),\n",
      " 19: Counter({None: 10}),\n",
      " 20: Counter({None: 10}),\n",
      " 21: Counter({25: 4, None: 4, 28: 3, 34: 1, 31: 1}),\n",
      " 22: Counter({None: 4, 18: 3, 45: 3}),\n",
      " 23: Counter({1: 5, 12: 4, 23: 2, 2: 1, 6: 1, 16: 1, None: 1}),\n",
      " 24: Counter({38: 4, 16: 3, 12: 3, 2: 1}),\n",
      " 25: Counter({43: 4, 34: 3, 35: 3, 16: 2, 25: 2, 44: 1, 22: 1, 28: 1}),\n",
      " 26: Counter({23: 5, 4: 3, 21: 3, 30: 3, 34: 1, 10: 1, 24: 1, 36: 1}),\n",
      " 27: Counter({36: 3, 37: 3, 6: 3, 41: 3, 10: 2, 2: 1, 35: 1, 4: 1, 31: 1}),\n",
      " 28: Counter({37: 3, 7: 3, 29: 3, 8: 1, 9: 1, 11: 1, None: 1, 27: 1, 31: 1}),\n",
      " 29: Counter({26: 4, 35: 3, 21: 3, 11: 1, 20: 1, 29: 1}),\n",
      " 30: Counter({15: 4, 3: 3, 16: 3, 23: 3, 12: 1, 17: 1}),\n",
      " 31: Counter({11: 3, 12: 3, 13: 3, 19: 3, 34: 1, 41: 1, 16: 1, 23: 1}),\n",
      " 32: Counter({24: 3, 30: 3, 22: 3, 23: 3, 15: 1}),\n",
      " 33: Counter({29: 4, 9: 3, 44: 3, 36: 1, 43: 1, 23: 1, 27: 1})}\n"
     ]
    }
   ],
   "source": [
    "rev_g = defaultdict(list)\n",
    "for g, g_mems in groups.items():\n",
    "    for mem in g_mems:\n",
    "        rev_g[mem].append(g)    \n",
    "\n",
    "group_mems = set(reduce(lambda x, y: x + y, groups.values()))\n",
    "no_group_mems = set(person_ids) - group_mems\n",
    "        \n",
    "for p in no_group_mems:\n",
    "    rev_g[p].append(None)\n",
    "        \n",
    "m_vals = [int(str(model.eval(get_person_int(x)))) for x in person_ids]\n",
    "table_vals_raw = defaultdict(lambda: defaultdict(list))\n",
    "for i, val in enumerate(m_vals):\n",
    "    table_vals_raw[val][i].extend(rev_g[i])\n",
    "\n",
    "table_vals = {k: dict(v) for k, v in table_vals_raw.items()}\n",
    "\n",
    "table_group_stats = {k: Counter(reduce(lambda x, y: x + y, v.values())) for k, v in table_vals.items()}\n",
    "\n",
    "pp(table_group_stats)"
   ]
  },
  {
   "cell_type": "raw",
   "metadata": {},
   "source": [
    "With Z3py Solver:\n",
    "basic + couples + enemies + friends + groups is 31 min\n",
    "\n",
    "With Z3py Optimize:\n",
    "basic + couples + enemies + friends + groups is  min"
   ]
  }
 ],
 "metadata": {
  "kernelspec": {
   "display_name": "Python 2",
   "language": "python",
   "name": "python2"
  },
  "language_info": {
   "codemirror_mode": {
    "name": "ipython",
    "version": 2
   },
   "file_extension": ".py",
   "mimetype": "text/x-python",
   "name": "python",
   "nbconvert_exporter": "python",
   "pygments_lexer": "ipython2",
   "version": "2.7.15"
  }
 },
 "nbformat": 4,
 "nbformat_minor": 2
}
