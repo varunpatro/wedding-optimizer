{
 "cells": [
  {
   "cell_type": "code",
   "execution_count": 1,
   "metadata": {},
   "outputs": [],
   "source": [
    "from collections import defaultdict\n",
    "import optimizer"
   ]
  },
  {
   "cell_type": "code",
   "execution_count": 2,
   "metadata": {},
   "outputs": [],
   "source": [
    "# persons is a list of ids (for simplicity)\n",
    "# we can be more sophisticated and use a \n",
    "# Person class to represent each person\n",
    "persons = range(50)\n",
    "\n",
    "# tables is a list of table sizes\n",
    "# e.g. if tables = [3, 4, 5], it means\n",
    "# there are 3 tables of sizes 3, 4 and 5\n",
    "# respectively.\n",
    "tables = [10] * 5\n",
    "\n",
    "# groups is a dictionary that maps a group id\n",
    "# to a list of all the people in that group\n",
    "# e.g. if groups[0] == [1, 2], it means\n",
    "# person 1 and 2 belong to group 0\n",
    "groups = defaultdict(list)\n",
    "groups[0] = [0, 1, 2, 3]\n",
    "groups[1] = [6, 7, 8, 9]\n",
    "\n",
    "# friends is a dictionary that maps a person_id\n",
    "# to a list of all that person's friends.\n",
    "# e.g. if friends[0] == [1, 2, 3], it means \n",
    "# that person 0 has three friends: persons 1, 2, 3\n",
    "# currently not required\n",
    "friends = defaultdict(list)\n",
    "friends[0] = [1]\n",
    "friends[1] = [2, 3, 4]\n",
    "\n",
    "# enemies is a list of pairs where\n",
    "# each pair holds two people that \n",
    "# shouldn't be seated on the same table\n",
    "enemies = []\n",
    "\n",
    "# couples is a list of pairs where\n",
    "# each pair holds two people that\n",
    "# must be seated on the same table\n",
    "couples = []"
   ]
  },
  {
   "cell_type": "code",
   "execution_count": 3,
   "metadata": {},
   "outputs": [],
   "source": [
    "data = {\n",
    "    \"persons\": persons,\n",
    "    \"tables\": tables,\n",
    "    \"groups\": groups,\n",
    "    \"enemies\": enemies,\n",
    "    \"couples\": couples,\n",
    "}"
   ]
  },
  {
   "cell_type": "code",
   "execution_count": 4,
   "metadata": {},
   "outputs": [
    {
     "data": {
      "text/plain": [
       "[4L,\n",
       " 4L,\n",
       " 4L,\n",
       " 4L,\n",
       " 0L,\n",
       " 0L,\n",
       " 4L,\n",
       " 4L,\n",
       " 4L,\n",
       " 4L,\n",
       " 0L,\n",
       " 0L,\n",
       " 0L,\n",
       " 0L,\n",
       " 0L,\n",
       " 0L,\n",
       " 0L,\n",
       " 0L,\n",
       " 1L,\n",
       " 1L,\n",
       " 1L,\n",
       " 1L,\n",
       " 1L,\n",
       " 1L,\n",
       " 1L,\n",
       " 1L,\n",
       " 1L,\n",
       " 1L,\n",
       " 2L,\n",
       " 2L,\n",
       " 2L,\n",
       " 2L,\n",
       " 2L,\n",
       " 2L,\n",
       " 2L,\n",
       " 2L,\n",
       " 2L,\n",
       " 2L,\n",
       " 3L,\n",
       " 3L,\n",
       " 3L,\n",
       " 3L,\n",
       " 3L,\n",
       " 3L,\n",
       " 3L,\n",
       " 3L,\n",
       " 3L,\n",
       " 3L,\n",
       " 4L,\n",
       " 4L]"
      ]
     },
     "execution_count": 4,
     "metadata": {},
     "output_type": "execute_result"
    }
   ],
   "source": [
    "w = optimizer.WeddingOptimizer(data)\n",
    "w.solve()"
   ]
  }
 ],
 "metadata": {
  "kernelspec": {
   "display_name": "Python 2",
   "language": "python",
   "name": "python2"
  },
  "language_info": {
   "codemirror_mode": {
    "name": "ipython",
    "version": 2
   },
   "file_extension": ".py",
   "mimetype": "text/x-python",
   "name": "python",
   "nbconvert_exporter": "python",
   "pygments_lexer": "ipython2",
   "version": "2.7.15"
  }
 },
 "nbformat": 4,
 "nbformat_minor": 2
}
